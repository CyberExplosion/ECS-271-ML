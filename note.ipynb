{
 "cells": [
  {
   "cell_type": "markdown",
   "metadata": {},
   "source": [
    "For digit 0, x3 and y3 focus around:\n",
    "- y is 0, while x go from 0 to 60 with some go to 80\n",
    "- x is 0, while y go from 0 to 60 and some to 80 also\n",
    "- A lot of point with x just equal 0 and y at range 20 - 50"
   ]
  }
 ],
 "metadata": {
  "language_info": {
   "name": "python"
  }
 },
 "nbformat": 4,
 "nbformat_minor": 2
}
