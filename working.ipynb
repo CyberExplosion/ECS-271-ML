{
 "cells": [
  {
   "cell_type": "code",
   "execution_count": 2,
   "metadata": {},
   "outputs": [],
   "source": [
    "import torch\n",
    "from torch import nn\n",
    "from sklearn.model_selection import KFold\n",
    "from collections import OrderedDict\n",
    "from sklearn.metrics import accuracy_score"
   ]
  },
  {
   "cell_type": "code",
   "execution_count": null,
   "metadata": {},
   "outputs": [],
   "source": [
    "torch.manual_seed(0)    # reproducibility\n",
    "kf = KFold(n_splits=5, shuffle=False)\n",
    "\n",
    "layers = OrderedDict([\n",
    "    ('fc_1', nn.Linear(in_features=8, out_features=32)),\n",
    "    ('relu_1', nn.ReLU()),\n",
    "    ('fc_2', nn.Linear(in_features=32, out_features=16)),\n",
    "    ('relu_2', nn.ReLU()),\n",
    "    ('fc_3', nn.Linear(in_features=16, out_features=10)),\n",
    "    ('relu_3', nn.ReLU()),\n",
    "])\n",
    "compiledLayers = nn.ModuleDict(layers)\n",
    "crossEntropyLoss = nn.CrossEntropyLoss()\n",
    "optimizer = torch.optim.Adam(compiledLayers.parameters(), lr=0.001)"
   ]
  },
  {
   "cell_type": "code",
   "execution_count": null,
   "metadata": {},
   "outputs": [],
   "source": [
    "# Train model\n",
    "compiledLayers.training = True\n",
    "\n",
    "# k-fold cross validation\n",
    "for train_index, test_index in kf.split(X_test):\n",
    "\n",
    "\n",
    "for epoch in range(1000):\n",
    "    optimizer.zero_grad()\n",
    "    output = compiledLayers(torch.randn(10, 8))\n",
    "    loss = crossEntropyLoss(output, torch.randint(0, 10, (10,)))\n",
    "    loss.backward()\n",
    "    optimizer.step()"
   ]
  }
 ],
 "metadata": {
  "kernelspec": {
   "display_name": "Python 3",
   "language": "python",
   "name": "python3"
  },
  "language_info": {
   "codemirror_mode": {
    "name": "ipython",
    "version": 3
   },
   "file_extension": ".py",
   "mimetype": "text/x-python",
   "name": "python",
   "nbconvert_exporter": "python",
   "pygments_lexer": "ipython3",
   "version": "3.11.5"
  }
 },
 "nbformat": 4,
 "nbformat_minor": 2
}
